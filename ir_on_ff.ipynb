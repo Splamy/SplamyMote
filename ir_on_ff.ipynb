{
 "cells": [
  {
   "cell_type": "code",
   "execution_count": 26,
   "metadata": {},
   "outputs": [
    {
     "data": {
      "image/png": "[encoded data removed]",
      "text/plain": [
       "<Figure size 432x288 with 1 Axes>"
      ]
     },
     "metadata": {
      "needs_background": "light"
     },
     "output_type": "display_data"
    }
   ],
   "source": [
    "import numpy as np\n",
    "import matplotlib.pyplot as plt\n",
    "\n",
    "x_on = [1,4403,2225,237,254,250,731,250,241,249,241,251,240,237,744,243,249,249,241,250,731,237,253,237,744,250,732,249,732,236,254,238,744,237,744,249,241,237,254,237,743,237,744,237,254,250,240,236,254,237,253,236,745,237,745,236,254,237,254,237,744,236,746,236,745,237,744,238]\n",
    "x2 = [0, 4500, 2250, 250, 250, 250, 750, 250, 250, 250, 250, 250, 250, 250, 750, 250, 250, 250, 250, 250, 750, 250, 250, 250, 750, 250, 750, 250, 750, 250, 250, 250, 750, 250, 750, 250, 250, 250, 250, 250, 750, 250, 750, 250, 250, 250, 250, 250, 250, 250, 250, 250, 750, 250, 750, 250, 250, 250, 250, 250, 750, 250, 750, 250, 750, 250, 750, 250]\n",
    "plt.plot(x_on)\n",
    "plt.plot(x2)\n",
    "plt.show()"
   ]
  },
  {
   "cell_type": "code",
   "execution_count": 27,
   "metadata": {},
   "outputs": [
    {
     "ename": "NameError",
     "evalue": "name 'x' is not defined",
     "output_type": "error",
     "traceback": [
      "\u001b[1;31m---------------------------------------------------------------------------\u001b[0m",
      "\u001b[1;31mNameError\u001b[0m                                 Traceback (most recent call last)",
      "\u001b[1;32md:\\MEGA\\Documents\\Arduino\\sketch_apr22a\\ir_on_ff.ipynb Cell 2'\u001b[0m in \u001b[0;36m<cell line: 5>\u001b[1;34m()\u001b[0m\n\u001b[0;32m      <a href='vscode-notebook-cell:/d%3A/MEGA/Documents/Arduino/sketch_apr22a/ir_on_ff.ipynb#ch0000001?line=1'>2</a>\u001b[0m \u001b[39mimport\u001b[39;00m \u001b[39mmatplotlib\u001b[39;00m\u001b[39m.\u001b[39;00m\u001b[39mpyplot\u001b[39;00m \u001b[39mas\u001b[39;00m \u001b[39mplt\u001b[39;00m\n\u001b[0;32m      <a href='vscode-notebook-cell:/d%3A/MEGA/Documents/Arduino/sketch_apr22a/ir_on_ff.ipynb#ch0000001?line=3'>4</a>\u001b[0m x_off \u001b[39m=\u001b[39m [\u001b[39m1\u001b[39m,\u001b[39m4422\u001b[39m,\u001b[39m2197\u001b[39m,\u001b[39m239\u001b[39m,\u001b[39m253\u001b[39m,\u001b[39m239\u001b[39m,\u001b[39m741\u001b[39m,\u001b[39m239\u001b[39m,\u001b[39m252\u001b[39m,\u001b[39m239\u001b[39m,\u001b[39m253\u001b[39m,\u001b[39m238\u001b[39m,\u001b[39m252\u001b[39m,\u001b[39m239\u001b[39m,\u001b[39m742\u001b[39m,\u001b[39m237\u001b[39m,\u001b[39m253\u001b[39m,\u001b[39m239\u001b[39m,\u001b[39m251\u001b[39m,\u001b[39m239\u001b[39m,\u001b[39m742\u001b[39m,\u001b[39m239\u001b[39m,\u001b[39m251\u001b[39m,\u001b[39m238\u001b[39m,\u001b[39m742\u001b[39m,\u001b[39m240\u001b[39m,\u001b[39m741\u001b[39m,\u001b[39m237\u001b[39m,\u001b[39m743\u001b[39m,\u001b[39m240\u001b[39m,\u001b[39m251\u001b[39m,\u001b[39m252\u001b[39m,\u001b[39m728\u001b[39m,\u001b[39m240\u001b[39m,\u001b[39m741\u001b[39m,\u001b[39m239\u001b[39m,\u001b[39m741\u001b[39m,\u001b[39m252\u001b[39m,\u001b[39m238\u001b[39m,\u001b[39m240\u001b[39m,\u001b[39m251\u001b[39m,\u001b[39m239\u001b[39m,\u001b[39m251\u001b[39m,\u001b[39m254\u001b[39m,\u001b[39m727\u001b[39m,\u001b[39m241\u001b[39m,\u001b[39m249\u001b[39m,\u001b[39m238\u001b[39m,\u001b[39m253\u001b[39m,\u001b[39m253\u001b[39m,\u001b[39m237\u001b[39m,\u001b[39m251\u001b[39m,\u001b[39m239\u001b[39m,\u001b[39m240\u001b[39m,\u001b[39m740\u001b[39m,\u001b[39m253\u001b[39m,\u001b[39m728\u001b[39m,\u001b[39m239\u001b[39m,\u001b[39m740\u001b[39m,\u001b[39m255\u001b[39m,\u001b[39m236\u001b[39m,\u001b[39m253\u001b[39m,\u001b[39m728\u001b[39m,\u001b[39m252\u001b[39m,\u001b[39m728\u001b[39m,\u001b[39m253\u001b[39m,\u001b[39m727\u001b[39m,\u001b[39m253\u001b[39m]\n\u001b[1;32m----> <a href='vscode-notebook-cell:/d%3A/MEGA/Documents/Arduino/sketch_apr22a/ir_on_ff.ipynb#ch0000001?line=4'>5</a>\u001b[0m plt\u001b[39m.\u001b[39mplot(x)\n\u001b[0;32m      <a href='vscode-notebook-cell:/d%3A/MEGA/Documents/Arduino/sketch_apr22a/ir_on_ff.ipynb#ch0000001?line=5'>6</a>\u001b[0m plt\u001b[39m.\u001b[39mshow()\n",
      "\u001b[1;31mNameError\u001b[0m: name 'x' is not defined"
     ]
    }
   ],
   "source": [
    "import numpy as np\n",
    "import matplotlib.pyplot as plt\n",
    "\n",
    "x_off = [1,4422,2197,239,253,239,741,239,252,239,253,238,252,239,742,237,253,239,251,239,742,239,251,238,742,240,741,237,743,240,251,252,728,240,741,239,741,252,238,240,251,239,251,254,727,241,249,238,253,253,237,251,239,240,740,253,728,239,740,255,236,253,728,252,728,253,727,253]\n",
    "plt.plot(x)\n",
    "plt.show()"
   ]
  },
  {
   "cell_type": "code",
   "execution_count": null,
   "metadata": {},
   "outputs": [
    {
     "data": {
      "text/plain": [
       "[0,\n",
       " 9000,\n",
       " 4500,\n",
       " 500,\n",
       " 500,\n",
       " 500,\n",
       " 1500,\n",
       " 500,\n",
       " 500,\n",
       " 500,\n",
       " 500,\n",
       " 500,\n",
       " 500,\n",
       " 500,\n",
       " 1500,\n",
       " 500,\n",
       " 500,\n",
       " 500,\n",
       " 500,\n",
       " 500,\n",
       " 1500,\n",
       " 500,\n",
       " 500,\n",
       " 500,\n",
       " 1500,\n",
       " 500,\n",
       " 1500,\n",
       " 500,\n",
       " 1500,\n",
       " 500,\n",
       " 500,\n",
       " 500,\n",
       " 1500,\n",
       " 500,\n",
       " 1500,\n",
       " 500,\n",
       " 500,\n",
       " 500,\n",
       " 500,\n",
       " 500,\n",
       " 1500,\n",
       " 500,\n",
       " 1500,\n",
       " 500,\n",
       " 500,\n",
       " 500,\n",
       " 500,\n",
       " 500,\n",
       " 500,\n",
       " 500,\n",
       " 500,\n",
       " 500,\n",
       " 1500,\n",
       " 500,\n",
       " 1500,\n",
       " 500,\n",
       " 500,\n",
       " 500,\n",
       " 500,\n",
       " 500,\n",
       " 1500,\n",
       " 500,\n",
       " 1500,\n",
       " 500,\n",
       " 1500,\n",
       " 500,\n",
       " 1500,\n",
       " 500]"
      ]
     },
     "execution_count": 9,
     "metadata": {},
     "output_type": "execute_result"
    }
   ],
   "source": [
    "[round(x / 250) * 250 * 2 for x in [1,4403,2225,237,254,250,731,250,241,249,241,251,240,237,744,243,249,249,241,250,731,237,253,237,744,250,732,249,732,236,254,238,744,237,744,249,241,237,254,237,743,237,744,237,254,250,240,236,254,237,253,236,745,237,745,236,254,237,254,237,744,236,746,236,745,237,744,238]]"
   ]
  },
  {
   "cell_type": "code",
   "execution_count": 34,
   "metadata": {},
   "outputs": [
    {
     "name": "stdout",
     "output_type": "stream",
     "text": [
      "[[236, 237, 237, 237, 237, 237, 237, 237, 237, 237, 237, 237, 237, 237, 237, 238, 238, 240, 240, 241, 241, 241, 241, 243, 249, 249, 249, 249, 249, 250, 250, 250, 250, 250, 251, 253, 253, 254, 254, 254, 254, 254, 254, 254], [731, 731, 732, 732, 743, 744, 744, 744, 744, 744, 744]]\n",
      "[244.25, 739.3636363636364]\n"
     ]
    },
    {
     "data": {
      "text/plain": [
       "3.027077323904344"
      ]
     },
     "execution_count": 34,
     "metadata": {},
     "output_type": "execute_result"
    }
   ],
   "source": [
    "from math import *\n",
    "\n",
    "on_sort = sorted(x_on)\n",
    "x_on_90pctl = on_sort[int(len(on_sort) * .1) : int(len(on_sort) * .9)]\n",
    "\n",
    "buckets = []\n",
    "bucket = []\n",
    "prev = -1;\n",
    "\n",
    "for i in x_on_90pctl:\n",
    "\tif i > prev + (prev / 3) and len(bucket) > 0:\n",
    "\t\tbuckets.append(bucket)\n",
    "\t\tbucket = []\n",
    "\tbucket.append(i)\n",
    "\tprev = i\n",
    "buckets.append(bucket)\n",
    "print(buckets)\n",
    "\n",
    "a = [sum(bu) / len(bu) for bu in buckets]\n",
    "print(a)\n",
    "\n",
    "739.363636363636 / 244.25\n"
   ]
  }
 ],
 "metadata": {
  "interpreter": {
   "hash": "729444228bdb9a20c64b3c36160dc13abcb234bc0340c489ed27f92119eac3a7"
  },
  "kernelspec": {
   "display_name": "Python 3.10.1 64-bit (system)",
   "language": "python",
   "name": "python3"
  },
  "language_info": {
   "codemirror_mode": {
    "name": "ipython",
    "version": 3
   },
   "file_extension": ".py",
   "mimetype": "text/x-python",
   "name": "python",
   "nbconvert_exporter": "python",
   "pygments_lexer": "ipython3",
   "version": "3.10.1"
  },
  "orig_nbformat": 4
 },
 "nbformat": 4,
 "nbformat_minor": 2
}
